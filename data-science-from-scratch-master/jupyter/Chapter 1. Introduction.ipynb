{
 "cells": [
  {
   "cell_type": "code",
   "execution_count": 1,
   "metadata": {},
   "outputs": [],
   "source": [
    "from __future__ import division\n",
    "\n",
    "# at this stage in the book we haven't actually installed matplotlib,\n",
    "# comment this out if you need to\n",
    "from matplotlib import pyplot as plt\n",
    "\n",
    "##########################\n",
    "#                        #\n",
    "# FINDING KEY CONNECTORS #\n",
    "#                        #\n",
    "##########################\n",
    "\n",
    "users = [\n",
    "    { \"id\": 0, \"name\": \"Hero\" },\n",
    "    { \"id\": 1, \"name\": \"Dunn\" },\n",
    "    { \"id\": 2, \"name\": \"Sue\" },\n",
    "    { \"id\": 3, \"name\": \"Chi\" },\n",
    "    { \"id\": 4, \"name\": \"Thor\" },\n",
    "    { \"id\": 5, \"name\": \"Clive\" },\n",
    "    { \"id\": 6, \"name\": \"Hicks\" },\n",
    "    { \"id\": 7, \"name\": \"Devin\" },\n",
    "    { \"id\": 8, \"name\": \"Kate\" },\n",
    "    { \"id\": 9, \"name\": \"Klein\" },\n",
    "    { \"id\": 10, \"name\": \"Jen\" }\n",
    "]\n",
    "\n",
    "friendships = [(0, 1), (0, 2), (1, 2), (1, 3), (2, 3), (3, 4),\n",
    "               (4, 5), (5, 6), (5, 7), (6, 8), (7, 8), (8, 9)]\n",
    "\n"
   ]
  },
  {
   "cell_type": "code",
   "execution_count": 2,
   "metadata": {},
   "outputs": [
    {
     "name": "stdout",
     "output_type": "stream",
     "text": [
      "[{'id': 0, 'name': 'Hero'}, {'id': 1, 'name': 'Dunn'}, {'id': 2, 'name': 'Sue'}, {'id': 3, 'name': 'Chi'}, {'id': 4, 'name': 'Thor'}, {'id': 5, 'name': 'Clive'}, {'id': 6, 'name': 'Hicks'}, {'id': 7, 'name': 'Devin'}, {'id': 8, 'name': 'Kate'}, {'id': 9, 'name': 'Klein'}, {'id': 10, 'name': 'Jen'}]\n"
     ]
    }
   ],
   "source": [
    "print users"
   ]
  },
  {
   "cell_type": "code",
   "execution_count": 3,
   "metadata": {},
   "outputs": [],
   "source": [
    "# first give each user an empty list\n",
    "for user in users:\n",
    "    user[\"friends\"] = []"
   ]
  },
  {
   "cell_type": "code",
   "execution_count": 4,
   "metadata": {},
   "outputs": [
    {
     "name": "stdout",
     "output_type": "stream",
     "text": [
      "[{'friends': [], 'id': 0, 'name': 'Hero'}, {'friends': [], 'id': 1, 'name': 'Dunn'}, {'friends': [], 'id': 2, 'name': 'Sue'}, {'friends': [], 'id': 3, 'name': 'Chi'}, {'friends': [], 'id': 4, 'name': 'Thor'}, {'friends': [], 'id': 5, 'name': 'Clive'}, {'friends': [], 'id': 6, 'name': 'Hicks'}, {'friends': [], 'id': 7, 'name': 'Devin'}, {'friends': [], 'id': 8, 'name': 'Kate'}, {'friends': [], 'id': 9, 'name': 'Klein'}, {'friends': [], 'id': 10, 'name': 'Jen'}]\n"
     ]
    }
   ],
   "source": [
    "print users"
   ]
  },
  {
   "cell_type": "code",
   "execution_count": 5,
   "metadata": {},
   "outputs": [],
   "source": [
    "# and then populate the lists with friendships\n",
    "for i, j in friendships:\n",
    "    # this works because users[i] is the user whose id is i\n",
    "    users[i][\"friends\"].append(users[j]) # add i as a friend of j\n",
    "    users[j][\"friends\"].append(users[i]) # add j as a friend of i"
   ]
  },
  {
   "cell_type": "code",
   "execution_count": 6,
   "metadata": {},
   "outputs": [
    {
     "name": "stdout",
     "output_type": "stream",
     "text": [
      "[{'friends': [{'friends': [{...}, {'friends': [{...}, {...}, {'friends': [{...}, {...}, {'friends': [{...}, {'friends': [{...}, {'friends': [{...}, {'friends': [{...}, {'friends': [{...}, {...}], 'id': 7, 'name': 'Devin'}, {'friends': [{...}], 'id': 9, 'name': 'Klein'}], 'id': 8, 'name': 'Kate'}], 'id': 6, 'name': 'Hicks'}, {'friends': [{...}, {'friends': [{'friends': [{...}, {...}], 'id': 6, 'name': 'Hicks'}, {...}, {'friends': [{...}], 'id': 9, 'name': 'Klein'}], 'id': 8, 'name': 'Kate'}], 'id': 7, 'name': 'Devin'}], 'id': 5, 'name': 'Clive'}], 'id': 4, 'name': 'Thor'}], 'id': 3, 'name': 'Chi'}], 'id': 2, 'name': 'Sue'}, {'friends': [{...}, {'friends': [{...}, {...}, {...}], 'id': 2, 'name': 'Sue'}, {'friends': [{...}, {'friends': [{...}, {'friends': [{...}, {'friends': [{...}, {'friends': [{...}, {...}], 'id': 7, 'name': 'Devin'}, {'friends': [{...}], 'id': 9, 'name': 'Klein'}], 'id': 8, 'name': 'Kate'}], 'id': 6, 'name': 'Hicks'}, {'friends': [{...}, {'friends': [{'friends': [{...}, {...}], 'id': 6, 'name': 'Hicks'}, {...}, {'friends': [{...}], 'id': 9, 'name': 'Klein'}], 'id': 8, 'name': 'Kate'}], 'id': 7, 'name': 'Devin'}], 'id': 5, 'name': 'Clive'}], 'id': 4, 'name': 'Thor'}], 'id': 3, 'name': 'Chi'}], 'id': 1, 'name': 'Dunn'}, {'friends': [{...}, {'friends': [{...}, {...}, {'friends': [{...}, {...}, {'friends': [{...}, {'friends': [{...}, {'friends': [{...}, {'friends': [{...}, {'friends': [{...}, {...}], 'id': 7, 'name': 'Devin'}, {'friends': [{...}], 'id': 9, 'name': 'Klein'}], 'id': 8, 'name': 'Kate'}], 'id': 6, 'name': 'Hicks'}, {'friends': [{...}, {'friends': [{'friends': [{...}, {...}], 'id': 6, 'name': 'Hicks'}, {...}, {'friends': [{...}], 'id': 9, 'name': 'Klein'}], 'id': 8, 'name': 'Kate'}], 'id': 7, 'name': 'Devin'}], 'id': 5, 'name': 'Clive'}], 'id': 4, 'name': 'Thor'}], 'id': 3, 'name': 'Chi'}], 'id': 1, 'name': 'Dunn'}, {'friends': [{'friends': [{...}, {...}, {...}], 'id': 1, 'name': 'Dunn'}, {...}, {'friends': [{...}, {'friends': [{...}, {'friends': [{...}, {'friends': [{...}, {'friends': [{...}, {...}], 'id': 7, 'name': 'Devin'}, {'friends': [{...}], 'id': 9, 'name': 'Klein'}], 'id': 8, 'name': 'Kate'}], 'id': 6, 'name': 'Hicks'}, {'friends': [{...}, {'friends': [{'friends': [{...}, {...}], 'id': 6, 'name': 'Hicks'}, {...}, {'friends': [{...}], 'id': 9, 'name': 'Klein'}], 'id': 8, 'name': 'Kate'}], 'id': 7, 'name': 'Devin'}], 'id': 5, 'name': 'Clive'}], 'id': 4, 'name': 'Thor'}], 'id': 3, 'name': 'Chi'}], 'id': 2, 'name': 'Sue'}], 'id': 0, 'name': 'Hero'}, {'friends': [{'friends': [{...}, {'friends': [{...}, {...}, {'friends': [{...}, {...}, {'friends': [{...}, {'friends': [{...}, {'friends': [{...}, {'friends': [{...}, {'friends': [{...}, {...}], 'id': 7, 'name': 'Devin'}, {'friends': [{...}], 'id': 9, 'name': 'Klein'}], 'id': 8, 'name': 'Kate'}], 'id': 6, 'name': 'Hicks'}, {'friends': [{...}, {'friends': [{'friends': [{...}, {...}], 'id': 6, 'name': 'Hicks'}, {...}, {'friends': [{...}], 'id': 9, 'name': 'Klein'}], 'id': 8, 'name': 'Kate'}], 'id': 7, 'name': 'Devin'}], 'id': 5, 'name': 'Clive'}], 'id': 4, 'name': 'Thor'}], 'id': 3, 'name': 'Chi'}], 'id': 2, 'name': 'Sue'}], 'id': 0, 'name': 'Hero'}, {'friends': [{'friends': [{...}, {...}], 'id': 0, 'name': 'Hero'}, {...}, {'friends': [{...}, {...}, {'friends': [{...}, {'friends': [{...}, {'friends': [{...}, {'friends': [{...}, {'friends': [{...}, {...}], 'id': 7, 'name': 'Devin'}, {'friends': [{...}], 'id': 9, 'name': 'Klein'}], 'id': 8, 'name': 'Kate'}], 'id': 6, 'name': 'Hicks'}, {'friends': [{...}, {'friends': [{'friends': [{...}, {...}], 'id': 6, 'name': 'Hicks'}, {...}, {'friends': [{...}], 'id': 9, 'name': 'Klein'}], 'id': 8, 'name': 'Kate'}], 'id': 7, 'name': 'Devin'}], 'id': 5, 'name': 'Clive'}], 'id': 4, 'name': 'Thor'}], 'id': 3, 'name': 'Chi'}], 'id': 2, 'name': 'Sue'}, {'friends': [{...}, {'friends': [{'friends': [{...}, {...}], 'id': 0, 'name': 'Hero'}, {...}, {...}], 'id': 2, 'name': 'Sue'}, {'friends': [{...}, {'friends': [{...}, {'friends': [{...}, {'friends': [{...}, {'friends': [{...}, {...}], 'id': 7, 'name': 'Devin'}, {'friends': [{...}], 'id': 9, 'name': 'Klein'}], 'id': 8, 'name': 'Kate'}], 'id': 6, 'name': 'Hicks'}, {'friends': [{...}, {'friends': [{'friends': [{...}, {...}], 'id': 6, 'name': 'Hicks'}, {...}, {'friends': [{...}], 'id': 9, 'name': 'Klein'}], 'id': 8, 'name': 'Kate'}], 'id': 7, 'name': 'Devin'}], 'id': 5, 'name': 'Clive'}], 'id': 4, 'name': 'Thor'}], 'id': 3, 'name': 'Chi'}], 'id': 1, 'name': 'Dunn'}, {'friends': [{'friends': [{'friends': [{...}, {...}, {'friends': [{...}, {...}, {'friends': [{...}, {'friends': [{...}, {'friends': [{...}, {'friends': [{...}, {'friends': [{...}, {...}], 'id': 7, 'name': 'Devin'}, {'friends': [{...}], 'id': 9, 'name': 'Klein'}], 'id': 8, 'name': 'Kate'}], 'id': 6, 'name': 'Hicks'}, {'friends': [{...}, {'friends': [{'friends': [{...}, {...}], 'id': 6, 'name': 'Hicks'}, {...}, {'friends': [{...}], 'id': 9, 'name': 'Klein'}], 'id': 8, 'name': 'Kate'}], 'id': 7, 'name': 'Devin'}], 'id': 5, 'name': 'Clive'}], 'id': 4, 'name': 'Thor'}], 'id': 3, 'name': 'Chi'}], 'id': 1, 'name': 'Dunn'}, {...}], 'id': 0, 'name': 'Hero'}, {'friends': [{'friends': [{...}, {...}], 'id': 0, 'name': 'Hero'}, {...}, {'friends': [{...}, {...}, {'friends': [{...}, {'friends': [{...}, {'friends': [{...}, {'friends': [{...}, {'friends': [{...}, {...}], 'id': 7, 'name': 'Devin'}, {'friends': [{...}], 'id': 9, 'name': 'Klein'}], 'id': 8, 'name': 'Kate'}], 'id': 6, 'name': 'Hicks'}, {'friends': [{...}, {'friends': [{'friends': [{...}, {...}], 'id': 6, 'name': 'Hicks'}, {...}, {'friends': [{...}], 'id': 9, 'name': 'Klein'}], 'id': 8, 'name': 'Kate'}], 'id': 7, 'name': 'Devin'}], 'id': 5, 'name': 'Clive'}], 'id': 4, 'name': 'Thor'}], 'id': 3, 'name': 'Chi'}], 'id': 1, 'name': 'Dunn'}, {'friends': [{'friends': [{'friends': [{...}, {...}], 'id': 0, 'name': 'Hero'}, {...}, {...}], 'id': 1, 'name': 'Dunn'}, {...}, {'friends': [{...}, {'friends': [{...}, {'friends': [{...}, {'friends': [{...}, {'friends': [{...}, {...}], 'id': 7, 'name': 'Devin'}, {'friends': [{...}], 'id': 9, 'name': 'Klein'}], 'id': 8, 'name': 'Kate'}], 'id': 6, 'name': 'Hicks'}, {'friends': [{...}, {'friends': [{'friends': [{...}, {...}], 'id': 6, 'name': 'Hicks'}, {...}, {'friends': [{...}], 'id': 9, 'name': 'Klein'}], 'id': 8, 'name': 'Kate'}], 'id': 7, 'name': 'Devin'}], 'id': 5, 'name': 'Clive'}], 'id': 4, 'name': 'Thor'}], 'id': 3, 'name': 'Chi'}], 'id': 2, 'name': 'Sue'}, {'friends': [{'friends': [{'friends': [{...}, {'friends': [{...}, {...}, {...}], 'id': 2, 'name': 'Sue'}], 'id': 0, 'name': 'Hero'}, {'friends': [{'friends': [{...}, {...}], 'id': 0, 'name': 'Hero'}, {...}, {...}], 'id': 2, 'name': 'Sue'}, {...}], 'id': 1, 'name': 'Dunn'}, {'friends': [{'friends': [{'friends': [{...}, {...}, {...}], 'id': 1, 'name': 'Dunn'}, {...}], 'id': 0, 'name': 'Hero'}, {'friends': [{'friends': [{...}, {...}], 'id': 0, 'name': 'Hero'}, {...}, {...}], 'id': 1, 'name': 'Dunn'}, {...}], 'id': 2, 'name': 'Sue'}, {'friends': [{...}, {'friends': [{...}, {'friends': [{...}, {'friends': [{...}, {'friends': [{...}, {...}], 'id': 7, 'name': 'Devin'}, {'friends': [{...}], 'id': 9, 'name': 'Klein'}], 'id': 8, 'name': 'Kate'}], 'id': 6, 'name': 'Hicks'}, {'friends': [{...}, {'friends': [{'friends': [{...}, {...}], 'id': 6, 'name': 'Hicks'}, {...}, {'friends': [{...}], 'id': 9, 'name': 'Klein'}], 'id': 8, 'name': 'Kate'}], 'id': 7, 'name': 'Devin'}], 'id': 5, 'name': 'Clive'}], 'id': 4, 'name': 'Thor'}], 'id': 3, 'name': 'Chi'}, {'friends': [{'friends': [{'friends': [{'friends': [{...}, {'friends': [{...}, {...}, {...}], 'id': 2, 'name': 'Sue'}], 'id': 0, 'name': 'Hero'}, {'friends': [{'friends': [{...}, {...}], 'id': 0, 'name': 'Hero'}, {...}, {...}], 'id': 2, 'name': 'Sue'}, {...}], 'id': 1, 'name': 'Dunn'}, {'friends': [{'friends': [{'friends': [{...}, {...}, {...}], 'id': 1, 'name': 'Dunn'}, {...}], 'id': 0, 'name': 'Hero'}, {'friends': [{'friends': [{...}, {...}], 'id': 0, 'name': 'Hero'}, {...}, {...}], 'id': 1, 'name': 'Dunn'}, {...}], 'id': 2, 'name': 'Sue'}, {...}], 'id': 3, 'name': 'Chi'}, {'friends': [{...}, {'friends': [{...}, {'friends': [{...}, {'friends': [{...}, {...}], 'id': 7, 'name': 'Devin'}, {'friends': [{...}], 'id': 9, 'name': 'Klein'}], 'id': 8, 'name': 'Kate'}], 'id': 6, 'name': 'Hicks'}, {'friends': [{...}, {'friends': [{'friends': [{...}, {...}], 'id': 6, 'name': 'Hicks'}, {...}, {'friends': [{...}], 'id': 9, 'name': 'Klein'}], 'id': 8, 'name': 'Kate'}], 'id': 7, 'name': 'Devin'}], 'id': 5, 'name': 'Clive'}], 'id': 4, 'name': 'Thor'}, {'friends': [{'friends': [{'friends': [{'friends': [{'friends': [{...}, {'friends': [{...}, {...}, {...}], 'id': 2, 'name': 'Sue'}], 'id': 0, 'name': 'Hero'}, {'friends': [{'friends': [{...}, {...}], 'id': 0, 'name': 'Hero'}, {...}, {...}], 'id': 2, 'name': 'Sue'}, {...}], 'id': 1, 'name': 'Dunn'}, {'friends': [{'friends': [{'friends': [{...}, {...}, {...}], 'id': 1, 'name': 'Dunn'}, {...}], 'id': 0, 'name': 'Hero'}, {'friends': [{'friends': [{...}, {...}], 'id': 0, 'name': 'Hero'}, {...}, {...}], 'id': 1, 'name': 'Dunn'}, {...}], 'id': 2, 'name': 'Sue'}, {...}], 'id': 3, 'name': 'Chi'}, {...}], 'id': 4, 'name': 'Thor'}, {'friends': [{...}, {'friends': [{...}, {'friends': [{...}, {...}], 'id': 7, 'name': 'Devin'}, {'friends': [{...}], 'id': 9, 'name': 'Klein'}], 'id': 8, 'name': 'Kate'}], 'id': 6, 'name': 'Hicks'}, {'friends': [{...}, {'friends': [{'friends': [{...}, {...}], 'id': 6, 'name': 'Hicks'}, {...}, {'friends': [{...}], 'id': 9, 'name': 'Klein'}], 'id': 8, 'name': 'Kate'}], 'id': 7, 'name': 'Devin'}], 'id': 5, 'name': 'Clive'}, {'friends': [{'friends': [{'friends': [{'friends': [{'friends': [{'friends': [{...}, {'friends': [{...}, {...}, {...}], 'id': 2, 'name': 'Sue'}], 'id': 0, 'name': 'Hero'}, {'friends': [{'friends': [{...}, {...}], 'id': 0, 'name': 'Hero'}, {...}, {...}], 'id': 2, 'name': 'Sue'}, {...}], 'id': 1, 'name': 'Dunn'}, {'friends': [{'friends': [{'friends': [{...}, {...}, {...}], 'id': 1, 'name': 'Dunn'}, {...}], 'id': 0, 'name': 'Hero'}, {'friends': [{'friends': [{...}, {...}], 'id': 0, 'name': 'Hero'}, {...}, {...}], 'id': 1, 'name': 'Dunn'}, {...}], 'id': 2, 'name': 'Sue'}, {...}], 'id': 3, 'name': 'Chi'}, {...}], 'id': 4, 'name': 'Thor'}, {...}, {'friends': [{...}, {'friends': [{...}, {...}, {'friends': [{...}], 'id': 9, 'name': 'Klein'}], 'id': 8, 'name': 'Kate'}], 'id': 7, 'name': 'Devin'}], 'id': 5, 'name': 'Clive'}, {'friends': [{...}, {'friends': [{'friends': [{'friends': [{'friends': [{'friends': [{'friends': [{...}, {'friends': [{...}, {...}, {...}], 'id': 2, 'name': 'Sue'}], 'id': 0, 'name': 'Hero'}, {'friends': [{'friends': [{...}, {...}], 'id': 0, 'name': 'Hero'}, {...}, {...}], 'id': 2, 'name': 'Sue'}, {...}], 'id': 1, 'name': 'Dunn'}, {'friends': [{'friends': [{'friends': [{...}, {...}, {...}], 'id': 1, 'name': 'Dunn'}, {...}], 'id': 0, 'name': 'Hero'}, {'friends': [{'friends': [{...}, {...}], 'id': 0, 'name': 'Hero'}, {...}, {...}], 'id': 1, 'name': 'Dunn'}, {...}], 'id': 2, 'name': 'Sue'}, {...}], 'id': 3, 'name': 'Chi'}, {...}], 'id': 4, 'name': 'Thor'}, {...}, {...}], 'id': 5, 'name': 'Clive'}, {...}], 'id': 7, 'name': 'Devin'}, {'friends': [{...}], 'id': 9, 'name': 'Klein'}], 'id': 8, 'name': 'Kate'}], 'id': 6, 'name': 'Hicks'}, {'friends': [{'friends': [{'friends': [{'friends': [{'friends': [{'friends': [{...}, {'friends': [{...}, {...}, {...}], 'id': 2, 'name': 'Sue'}], 'id': 0, 'name': 'Hero'}, {'friends': [{'friends': [{...}, {...}], 'id': 0, 'name': 'Hero'}, {...}, {...}], 'id': 2, 'name': 'Sue'}, {...}], 'id': 1, 'name': 'Dunn'}, {'friends': [{'friends': [{'friends': [{...}, {...}, {...}], 'id': 1, 'name': 'Dunn'}, {...}], 'id': 0, 'name': 'Hero'}, {'friends': [{'friends': [{...}, {...}], 'id': 0, 'name': 'Hero'}, {...}, {...}], 'id': 1, 'name': 'Dunn'}, {...}], 'id': 2, 'name': 'Sue'}, {...}], 'id': 3, 'name': 'Chi'}, {...}], 'id': 4, 'name': 'Thor'}, {'friends': [{...}, {'friends': [{...}, {...}, {'friends': [{...}], 'id': 9, 'name': 'Klein'}], 'id': 8, 'name': 'Kate'}], 'id': 6, 'name': 'Hicks'}, {...}], 'id': 5, 'name': 'Clive'}, {'friends': [{'friends': [{'friends': [{'friends': [{'friends': [{'friends': [{'friends': [{...}, {'friends': [{...}, {...}, {...}], 'id': 2, 'name': 'Sue'}], 'id': 0, 'name': 'Hero'}, {'friends': [{'friends': [{...}, {...}], 'id': 0, 'name': 'Hero'}, {...}, {...}], 'id': 2, 'name': 'Sue'}, {...}], 'id': 1, 'name': 'Dunn'}, {'friends': [{'friends': [{'friends': [{...}, {...}, {...}], 'id': 1, 'name': 'Dunn'}, {...}], 'id': 0, 'name': 'Hero'}, {'friends': [{'friends': [{...}, {...}], 'id': 0, 'name': 'Hero'}, {...}, {...}], 'id': 1, 'name': 'Dunn'}, {...}], 'id': 2, 'name': 'Sue'}, {...}], 'id': 3, 'name': 'Chi'}, {...}], 'id': 4, 'name': 'Thor'}, {...}, {...}], 'id': 5, 'name': 'Clive'}, {...}], 'id': 6, 'name': 'Hicks'}, {...}, {'friends': [{...}], 'id': 9, 'name': 'Klein'}], 'id': 8, 'name': 'Kate'}], 'id': 7, 'name': 'Devin'}, {'friends': [{'friends': [{'friends': [{'friends': [{'friends': [{'friends': [{'friends': [{...}, {'friends': [{...}, {...}, {...}], 'id': 2, 'name': 'Sue'}], 'id': 0, 'name': 'Hero'}, {'friends': [{'friends': [{...}, {...}], 'id': 0, 'name': 'Hero'}, {...}, {...}], 'id': 2, 'name': 'Sue'}, {...}], 'id': 1, 'name': 'Dunn'}, {'friends': [{'friends': [{'friends': [{...}, {...}, {...}], 'id': 1, 'name': 'Dunn'}, {...}], 'id': 0, 'name': 'Hero'}, {'friends': [{'friends': [{...}, {...}], 'id': 0, 'name': 'Hero'}, {...}, {...}], 'id': 1, 'name': 'Dunn'}, {...}], 'id': 2, 'name': 'Sue'}, {...}], 'id': 3, 'name': 'Chi'}, {...}], 'id': 4, 'name': 'Thor'}, {...}, {'friends': [{...}, {...}], 'id': 7, 'name': 'Devin'}], 'id': 5, 'name': 'Clive'}, {...}], 'id': 6, 'name': 'Hicks'}, {'friends': [{'friends': [{'friends': [{'friends': [{'friends': [{'friends': [{...}, {'friends': [{...}, {...}, {...}], 'id': 2, 'name': 'Sue'}], 'id': 0, 'name': 'Hero'}, {'friends': [{'friends': [{...}, {...}], 'id': 0, 'name': 'Hero'}, {...}, {...}], 'id': 2, 'name': 'Sue'}, {...}], 'id': 1, 'name': 'Dunn'}, {'friends': [{'friends': [{'friends': [{...}, {...}, {...}], 'id': 1, 'name': 'Dunn'}, {...}], 'id': 0, 'name': 'Hero'}, {'friends': [{'friends': [{...}, {...}], 'id': 0, 'name': 'Hero'}, {...}, {...}], 'id': 1, 'name': 'Dunn'}, {...}], 'id': 2, 'name': 'Sue'}, {...}], 'id': 3, 'name': 'Chi'}, {...}], 'id': 4, 'name': 'Thor'}, {'friends': [{...}, {...}], 'id': 6, 'name': 'Hicks'}, {...}], 'id': 5, 'name': 'Clive'}, {...}], 'id': 7, 'name': 'Devin'}, {'friends': [{...}], 'id': 9, 'name': 'Klein'}], 'id': 8, 'name': 'Kate'}, {'friends': [{'friends': [{'friends': [{'friends': [{'friends': [{'friends': [{'friends': [{'friends': [{...}, {'friends': [{...}, {...}, {...}], 'id': 2, 'name': 'Sue'}], 'id': 0, 'name': 'Hero'}, {'friends': [{'friends': [{...}, {...}], 'id': 0, 'name': 'Hero'}, {...}, {...}], 'id': 2, 'name': 'Sue'}, {...}], 'id': 1, 'name': 'Dunn'}, {'friends': [{'friends': [{'friends': [{...}, {...}, {...}], 'id': 1, 'name': 'Dunn'}, {...}], 'id': 0, 'name': 'Hero'}, {'friends': [{'friends': [{...}, {...}], 'id': 0, 'name': 'Hero'}, {...}, {...}], 'id': 1, 'name': 'Dunn'}, {...}], 'id': 2, 'name': 'Sue'}, {...}], 'id': 3, 'name': 'Chi'}, {...}], 'id': 4, 'name': 'Thor'}, {...}, {'friends': [{...}, {...}], 'id': 7, 'name': 'Devin'}], 'id': 5, 'name': 'Clive'}, {...}], 'id': 6, 'name': 'Hicks'}, {'friends': [{'friends': [{'friends': [{'friends': [{'friends': [{'friends': [{...}, {'friends': [{...}, {...}, {...}], 'id': 2, 'name': 'Sue'}], 'id': 0, 'name': 'Hero'}, {'friends': [{'friends': [{...}, {...}], 'id': 0, 'name': 'Hero'}, {...}, {...}], 'id': 2, 'name': 'Sue'}, {...}], 'id': 1, 'name': 'Dunn'}, {'friends': [{'friends': [{'friends': [{...}, {...}, {...}], 'id': 1, 'name': 'Dunn'}, {...}], 'id': 0, 'name': 'Hero'}, {'friends': [{'friends': [{...}, {...}], 'id': 0, 'name': 'Hero'}, {...}, {...}], 'id': 1, 'name': 'Dunn'}, {...}], 'id': 2, 'name': 'Sue'}, {...}], 'id': 3, 'name': 'Chi'}, {...}], 'id': 4, 'name': 'Thor'}, {'friends': [{...}, {...}], 'id': 6, 'name': 'Hicks'}, {...}], 'id': 5, 'name': 'Clive'}, {...}], 'id': 7, 'name': 'Devin'}, {...}], 'id': 8, 'name': 'Kate'}], 'id': 9, 'name': 'Klein'}, {'friends': [], 'id': 10, 'name': 'Jen'}]\n"
     ]
    }
   ],
   "source": [
    "print users"
   ]
  },
  {
   "cell_type": "code",
   "execution_count": 8,
   "metadata": {},
   "outputs": [
    {
     "ename": "TypeError",
     "evalue": "slice indices must be integers or None or have an __index__ method",
     "output_type": "error",
     "traceback": [
      "\u001b[1;31m---------------------------------------------------------------------------\u001b[0m",
      "\u001b[1;31mTypeError\u001b[0m                                 Traceback (most recent call last)",
      "\u001b[1;32m<ipython-input-8-f833bf03dcaf>\u001b[0m in \u001b[0;36m<module>\u001b[1;34m()\u001b[0m\n\u001b[1;32m----> 1\u001b[1;33m \u001b[1;32mprint\u001b[0m \u001b[0musers\u001b[0m\u001b[1;33m[\u001b[0m\u001b[1;34m\"id\"\u001b[0m\u001b[1;33m:\u001b[0m\u001b[1;36m1\u001b[0m\u001b[1;33m]\u001b[0m\u001b[1;33m\u001b[0m\u001b[0m\n\u001b[0m",
      "\u001b[1;31mTypeError\u001b[0m: slice indices must be integers or None or have an __index__ method"
     ]
    }
   ],
   "source": [
    "print users[\"id\":1]"
   ]
  },
  {
   "cell_type": "code",
   "execution_count": null,
   "metadata": {},
   "outputs": [],
   "source": []
  }
 ],
 "metadata": {
  "kernelspec": {
   "display_name": "Python 2",
   "language": "python",
   "name": "python2"
  },
  "language_info": {
   "codemirror_mode": {
    "name": "ipython",
    "version": 2
   },
   "file_extension": ".py",
   "mimetype": "text/x-python",
   "name": "python",
   "nbconvert_exporter": "python",
   "pygments_lexer": "ipython2",
   "version": "2.7.15"
  }
 },
 "nbformat": 4,
 "nbformat_minor": 2
}
